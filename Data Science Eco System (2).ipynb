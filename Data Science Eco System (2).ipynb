{
  "metadata": {
    "kernelspec": {
      "name": "python",
      "display_name": "Python (Pyodide)",
      "language": "python"
    },
    "language_info": {
      "codemirror_mode": {
        "name": "python",
        "version": 3
      },
      "file_extension": ".py",
      "mimetype": "text/x-python",
      "name": "python",
      "nbconvert_exporter": "python",
      "pygments_lexer": "ipython3",
      "version": "3.8"
    }
  },
  "nbformat_minor": 4,
  "nbformat": 4,
  "cells": [
    {
      "cell_type": "markdown",
      "source": "Data Science Tools and Ecosystem",
      "metadata": {}
    },
    {
      "cell_type": "markdown",
      "source": "This is a details on data science tools",
      "metadata": {}
    },
    {
      "cell_type": "markdown",
      "source": "This is a list of data science languages\n1. Python\n2. SQL\n3. R\n4. VBA (Visual Basic for Applications)\n5. Julia\n",
      "metadata": {}
    },
    {
      "cell_type": "markdown",
      "source": "The Data Science Libraries are\nTensorFlow\nNumPy\nSciPy \nPandas\nMatplotlib \nKeras\nSciKit-Learn\nPyTorch\nScrapy\nBeautifulSoup\n",
      "metadata": {}
    },
    {
      "cell_type": "markdown",
      "source": "Data Science Tools\nPython\nR\nSQL\nApache Spark\nJupyter Notebook\nSAS\nTableau\nMicrosoft Excel\nGit Hub",
      "metadata": {}
    },
    {
      "cell_type": "markdown",
      "source": "Arithmetaic Expression\n(3*4)+80",
      "metadata": {}
    },
    {
      "cell_type": "code",
      "source": "(3*4)+5",
      "metadata": {
        "trusted": true,
        "scrolled": true
      },
      "outputs": [
        {
          "execution_count": 5,
          "output_type": "execute_result",
          "data": {
            "text/plain": "17"
          },
          "metadata": {}
        }
      ],
      "execution_count": 5
    },
    {
      "cell_type": "code",
      "source": "200/60",
      "metadata": {
        "trusted": true
      },
      "outputs": [
        {
          "execution_count": 6,
          "output_type": "execute_result",
          "data": {
            "text/plain": "3.3333333333333335"
          },
          "metadata": {}
        }
      ],
      "execution_count": 6
    },
    {
      "cell_type": "markdown",
      "source": "Objectives\n1.List Popular Data Science Language\n2.Data Science Tools\n3.Data Science Libraries\n4.How to comments in the cell",
      "metadata": {}
    },
    {
      "cell_type": "markdown",
      "source": "Author\nSuraj Das",
      "metadata": {}
    }
  ]
}